{
 "cells": [
  {
   "metadata": {
    "ExecuteTime": {
     "end_time": "2024-05-12T04:52:24.845937Z",
     "start_time": "2024-05-12T04:52:24.840256Z"
    }
   },
   "cell_type": "code",
   "source": "from pde import PDE, CartesianGrid, MemoryStorage, ScalarField, plot_kymograph",
   "id": "39c3192dca78af70",
   "execution_count": 11,
   "outputs": []
  },
  {
   "metadata": {
    "ExecuteTime": {
     "end_time": "2024-05-15T17:02:28.752462Z",
     "start_time": "2024-05-15T17:02:23.292749Z"
    }
   },
   "cell_type": "code",
   "source": [
    "from pde import PDE, FieldCollection, PlotTracker, ScalarField, UnitGrid\n",
    "\n",
    "def build_pde(k_cp, k_pw, k_pc, d_p, k_w, u):\n",
    "    pde_eq = PDE(\n",
    "        rhs = {\n",
    "            # crop - eaten by pest v\n",
    "            \"c\": f\"- {k_cp} * p * c\",\n",
    "            # the pest - killed by pesticide w, but replenished by the crops\n",
    "            \"p\": f\"{d_p} * laplace(p) - {k_pw} * p * w + {k_pc} * p * c\",\n",
    "            # the pesticide application rate and decay rate\n",
    "            \"w\": f\" {u}  - {k_w} * w\",\n",
    "        },\n",
    "        bc={\"value\": 0}\n",
    "    )\n",
    "    return pde_eq\n",
    "\n",
    "def init_state(n=32):\n",
    "    # initialize state\n",
    "    # this breaks the solver\n",
    "    #grid = CartesianGrid([(-1,1),(-1,1)], [N, 32])\n",
    "    grid = UnitGrid([n, n])\n",
    "    c = ScalarField(grid, 1, label=\"Field $c$\")\n",
    "    p = ScalarField(grid, 0, label=\"Field $p$\")\n",
    "    #v = ScalarField.from_expression(grid, \"exp(-((x-16)*(x-16)+(y-16)*(y-16))*20)\", label=\"Field $v$\")\n",
    "    p.data[round(n/2),round(n/2)] = 100 * (n/32)**2\n",
    "    p = p.smooth(sigma=n/32)\n",
    "    w = ScalarField.from_expression(grid, f\"abs(y**2)/({n}**2/4)\", label=\"Field $w$\")\n",
    "    state = FieldCollection([c, p, w])\n",
    "    return state\n"
   ],
   "id": "7beaed1a382455ec",
   "execution_count": 1,
   "outputs": []
  },
  {
   "cell_type": "code",
   "id": "initial_id",
   "metadata": {
    "collapsed": true,
    "ExecuteTime": {
     "end_time": "2024-05-15T17:02:43.461806Z",
     "start_time": "2024-05-15T17:02:42.353809Z"
    }
   },
   "source": [
    "from pde import PDE, FieldCollection, PlotTracker, ScalarField, UnitGrid\n",
    "eq = build_pde(k_cp=0.2, k_pw=0.3, k_pc=0.2, d_p = 1.0, k_w = 0.01, u = 0)\n",
    "state = init_state(n=32)"
   ],
   "execution_count": 2,
   "outputs": []
  },
  {
   "metadata": {
    "ExecuteTime": {
     "end_time": "2024-05-15T17:02:47.343159Z",
     "start_time": "2024-05-15T17:02:45.585427Z"
    }
   },
   "cell_type": "code",
   "source": "state.fields[0].plot()",
   "id": "af2f3f98c82ee3e0",
   "execution_count": 3,
   "outputs": []
  },
  {
   "metadata": {
    "ExecuteTime": {
     "end_time": "2024-05-15T17:02:53.176304Z",
     "start_time": "2024-05-15T17:02:52.602707Z"
    }
   },
   "cell_type": "code",
   "source": "state.fields[1].plot()",
   "id": "67f1b896d5db6e4d",
   "execution_count": 4,
   "outputs": []
  },
  {
   "metadata": {
    "ExecuteTime": {
     "end_time": "2024-05-15T17:02:59.371331Z",
     "start_time": "2024-05-15T17:02:58.898958Z"
    }
   },
   "cell_type": "code",
   "source": "state.fields[2].plot()",
   "id": "ea99e91093473d30",
   "execution_count": 5,
   "outputs": []
  },
  {
   "metadata": {
    "ExecuteTime": {
     "end_time": "2024-05-15T17:06:13.156833Z",
     "start_time": "2024-05-15T17:03:14.931783Z"
    }
   },
   "cell_type": "code",
   "source": [
    "# simulate the pde\n",
    "#tracker = PlotTracker(interrupts=1, plot_args={\"vmin\": 0, \"vmax\": 5},movie='pest1.mp4')\n",
    "tracker = PlotTracker(interrupts=1,movie='pest1.mp4')\n",
    "sol = eq.solve(state, t_range=40, dt=.05, tracker=tracker)"
   ],
   "id": "b604de0b3dca1a",
   "execution_count": 6,
   "outputs": []
  },
  {
   "metadata": {},
   "cell_type": "markdown",
   "source": "Lower res sim",
   "id": "3b7d1504ee5d8ea4"
  },
  {
   "metadata": {
    "ExecuteTime": {
     "end_time": "2024-05-15T17:08:21.436259Z",
     "start_time": "2024-05-15T17:08:21.343195Z"
    }
   },
   "cell_type": "code",
   "source": [
    "eq = build_pde(k_cp=0.2, k_pw=0.3, k_pc=0.2, d_p = 0.5, k_w = 0.01, u = 0)\n",
    "state = init_state(n=16)"
   ],
   "id": "4b3acdc37e6af314",
   "execution_count": 7,
   "outputs": []
  },
  {
   "metadata": {
    "ExecuteTime": {
     "end_time": "2024-05-15T17:08:24.938417Z",
     "start_time": "2024-05-15T17:08:23.973210Z"
    }
   },
   "cell_type": "code",
   "source": "state.fields[0].plot()",
   "id": "9d661ebc7af98dea",
   "execution_count": 8,
   "outputs": []
  },
  {
   "metadata": {
    "ExecuteTime": {
     "end_time": "2024-05-15T17:08:30.662750Z",
     "start_time": "2024-05-15T17:08:30.018818Z"
    }
   },
   "cell_type": "code",
   "source": "state.fields[1].plot()",
   "id": "b10e0adbec336cd1",
   "execution_count": 9,
   "outputs": []
  },
  {
   "metadata": {
    "ExecuteTime": {
     "end_time": "2024-05-15T17:08:34.836852Z",
     "start_time": "2024-05-15T17:08:34.193214Z"
    }
   },
   "cell_type": "code",
   "source": "state.fields[2].plot()",
   "id": "3b4695f50f46fd5a",
   "execution_count": 10,
   "outputs": []
  },
  {
   "metadata": {
    "ExecuteTime": {
     "end_time": "2024-05-15T17:11:24.320282Z",
     "start_time": "2024-05-15T17:08:43.699307Z"
    }
   },
   "cell_type": "code",
   "source": [
    "# simulate the pde\n",
    "#tracker = PlotTracker(interrupts=1, plot_args={\"vmin\": 0, \"vmax\": 5},movie='pest1.mp4')\n",
    "tracker = PlotTracker(interrupts=1,movie='pest1_lowres.mp4')\n",
    "sol = eq.solve(state, t_range=40, dt=.05, tracker=tracker)"
   ],
   "id": "bc5918aac133f483",
   "execution_count": 11,
   "outputs": []
  },
  {
   "metadata": {
    "ExecuteTime": {
     "end_time": "2024-05-13T04:28:46.519733Z",
     "start_time": "2024-05-13T04:28:46.500801Z"
    }
   },
   "cell_type": "code",
   "source": "tmp = state.grid.make_operator(\"laplace\", bc={\"value\": 0})",
   "id": "3b85c12d8ebff528",
   "execution_count": 166,
   "outputs": []
  },
  {
   "metadata": {},
   "cell_type": "code",
   "execution_count": null,
   "source": "",
   "id": "172a360a9718144b",
   "outputs": []
  }
 ],
 "metadata": {
  "kernelspec": {
   "display_name": "Python 3",
   "language": "python",
   "name": "python3"
  },
  "language_info": {
   "codemirror_mode": {
    "name": "ipython",
    "version": 2
   },
   "file_extension": ".py",
   "mimetype": "text/x-python",
   "name": "python",
   "nbconvert_exporter": "python",
   "pygments_lexer": "ipython2",
   "version": "2.7.6"
  }
 },
 "nbformat": 4,
 "nbformat_minor": 5
}
